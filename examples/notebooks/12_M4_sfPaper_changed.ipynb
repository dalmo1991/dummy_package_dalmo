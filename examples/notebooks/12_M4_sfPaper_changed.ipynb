{
 "cells": [
  {
   "cell_type": "markdown",
   "metadata": {},
   "source": [
    "# SuperflexPy example 11: Changing M4 of Kavetski et al., 2011\n",
    "\n",
    "Author: Marco Dal Molin\n",
    "\n",
    "Collaborators: Fabrizio Fenicia, Dmitri Kavetski"
   ]
  },
  {
   "cell_type": "markdown",
   "metadata": {},
   "source": [
    "## What's in this example\n",
    "\n",
    "This example will cover the following aspects:\n",
    "- [Modify the model M4 presented in Kavetski and Fenicia, 2011](https://superflexpy.readthedocs.io/en/latest/build_element.html#linear-reservoir)\n",
    "\n",
    "By clicking on the items you will be redirected to the documentation page (when available) that explains the arguments in a more detailed way.\n",
    "\n",
    "REFERENCE: Kavetski, D., and F. Fenicia (2011), Elements of a flexible approach for conceptual hydrological modeling: 2. Application\n",
    "and experimental insights, Water Resour. Res., 47, W11511, [doi:10.1029/2011WR010748](https://doi.org/10.1029/2011WR010748)"
   ]
  },
  {
   "cell_type": "markdown",
   "metadata": {},
   "source": [
    "## What's not in this example\n",
    "\n",
    "The following aspects are already covered in other examples:\n",
    "\n",
    "- [Initialize elements and connect them with a unit](./04_init_single_unit_model.ipynb)\n",
    "- [Run the model](./01_run_simple_model.ipynb)\n",
    "- [Change states and parameters](./01_run_simple_model.ipynb)\n",
    "- [Implement a new element from scratch](./07_create_reservoir.ipynb)\n",
    "\n",
    "For this reason we will put only the code need, without further explanations. You can check the other examples by clicking on the items above."
   ]
  },
  {
   "cell_type": "markdown",
   "metadata": {},
   "source": [
    "## Do you want to use this example as a script?\n",
    "\n",
    "Examples of SuperflexPy are created and distributed using Jupyter notebooks because they enable to conjugate runnable code with text explanations. We have decided to not provide the content of the notebooks as script because this would mean duplicating the same content in multiple places, bringing to maintainability problems.\n",
    "\n",
    "If the user wants to download the content of this notebook as a python script, it is possible following the steps:\n",
    "1. If not already done, open this notebook using Binder [![Binder](https://mybinder.org/badge_logo.svg)](TODO)\n",
    "2. Go on File -> Download as -> Python (.py)\n",
    "3. Select the saving path\n",
    "\n",
    "The result is a Python script that contains all the markdown text as comment and the code contained inside the cells."
   ]
  },
  {
   "cell_type": "markdown",
   "metadata": {},
   "source": [
    "## STEP 0: Import of external libraries\n",
    "\n",
    "The execution of the code in this example relies on the following external libraries:\n",
    "- **numpy**: arrays handling\n",
    "- **numba**: runtime compiler\n",
    "\n",
    "We assume that those libraries are already installed together with the latest version of SuperflexPy. Keep in mind that not all the libraries listed above are strictly needed to execute SuperflexPy and, therefore, they are not listed as requirements of SuperflexPy."
   ]
  },
  {
   "cell_type": "code",
   "execution_count": null,
   "metadata": {},
   "outputs": [],
   "source": [
    "import numpy as np\n",
    "import numba as nb"
   ]
  },
  {
   "cell_type": "markdown",
   "metadata": {},
   "source": [
    "## STEP 1: Create the new element\n",
    "\n",
    "In this example we implement some changes to the model M4 of Kavetski et al., 2011. The difference is in the calculation of the outflow of the `FastReservoir`. \n",
    "\n",
    "The original equation used in the paper is\n",
    "$$Q=kS^\\alpha$$\n",
    "In the new implementation we propose to use the equation\n",
    "$$Q=\\frac{kS^\\alpha}{S + b}$$"
   ]
  },
  {
   "cell_type": "markdown",
   "metadata": {},
   "source": [
    "### 01. Implement a new element (in a smart way)\n",
    "\n",
    "The normal procedure for implementing a new element is illustrated in [this example](TODO). The new element can be implemented following the procedure illustrated there but, in this particular case, we can notice that it is identical to the `FastReservoir` (same input and output) apart from the equation use for the outflow. For this reason, we can take a shortcut and implement the new element directly extending the class `FastReservoir` instead of `ODEsElement` (as done in the usual case).\n",
    "\n",
    "This requires overriding only the methods that implement the fluxes, in particular:\n",
    "- `_fluxes_function_python`\n",
    "- `_fluxes_function_numba`\n",
    "\n",
    "We do not change the initializer `__init__()` because the only change would be only in the documentation and not in the functionality. When creating a new element it would good practice to override it (for documentation purposes) but, for this example, we do not do it."
   ]
  },
  {
   "cell_type": "code",
   "execution_count": null,
   "metadata": {},
   "outputs": [],
   "source": [
    "from superflexpy.implementation.elements.hbv import FastReservoir\n",
    "\n",
    "class ExponentialReservoir(FastReservoir):\n",
    "    \n",
    "    @staticmethod\n",
    "    def _fluxes_function_python(S, S0, ind, P, k, alpha, b):\n",
    "\n",
    "        if ind is None:\n",
    "            return (\n",
    "                [\n",
    "                    P,\n",
    "                    - (k * S ** alpha) / (S + b),\n",
    "                ],\n",
    "                0.0,\n",
    "                S0 + P\n",
    "            )\n",
    "        else:\n",
    "            return (\n",
    "                [\n",
    "                    P[ind],\n",
    "                    - (k[ind] * S ** alpha[ind]) / (S + b[ind]),\n",
    "                ],\n",
    "                0.0,\n",
    "                S0 + P[ind]\n",
    "            )\n",
    "\n",
    "    @staticmethod\n",
    "    @nb.jit('Tuple((UniTuple(f8, 2), f8, f8))(optional(f8), f8, i4, f8[:], f8[:], f8[:], f8[:])',\n",
    "            nopython=True)\n",
    "    def _fluxes_function_numba(S, S0, ind, P, k, alpha, b):\n",
    "        # This method is used only when solving the equation\n",
    "\n",
    "        return (\n",
    "            (\n",
    "                P[ind],\n",
    "                - (k[ind] * S ** alpha[ind]) / (S + b[ind]),\n",
    "            ),\n",
    "            0.0,\n",
    "            S0 + P[ind]\n",
    "        )"
   ]
  },
  {
   "cell_type": "markdown",
   "metadata": {},
   "source": [
    "## STEP 1: Initialize the model\n",
    "\n",
    "The model M4 is composed by 2 elements in series: an unsaturated reservoir and a fast reservoir. Both elements have already been implemented and can be imported from `superflexpy.implementation.elements.hbv`."
   ]
  },
  {
   "cell_type": "code",
   "execution_count": null,
   "metadata": {},
   "outputs": [],
   "source": [
    "from superflexpy.implementation.computation.pegasus_root_finding import PegasusPython\n",
    "from superflexpy.implementation.computation.implicit_euler import ImplicitEulerPython\n",
    "from superflexpy.implementation.elements.hbv import UnsaturatedReservoir\n",
    "from superflexpy.framework.unit import Unit\n",
    "\n",
    "root_finder = PegasusPython()\n",
    "numeric_approximator = ImplicitEulerPython(root_finder=root_finder)\n",
    "\n",
    "ur = UnsaturatedReservoir(\n",
    "    parameters={'Smax': 50.0, 'Ce': 1.0, 'm': 0.01, 'beta': 2.0},\n",
    "    states={'S0': 25.0},\n",
    "    approximation=numeric_approximator,\n",
    "    id='UR'\n",
    ")\n",
    "\n",
    "fr = ExponentialReservoir(\n",
    "    parameters={'k': 1.0, 'alpha': 1.5, 'b': 5.0},\n",
    "    states={'S0': 10.0},\n",
    "    approximation=numeric_approximator,\n",
    "    id='FR'\n",
    ")\n",
    "\n",
    "model = Unit(\n",
    "    layers=[\n",
    "        [ur],\n",
    "        [fr]\n",
    "    ],\n",
    "    id='M4'\n",
    ")"
   ]
  },
  {
   "cell_type": "markdown",
   "metadata": {},
   "source": [
    "## STEP 2: Run the model\n",
    "\n",
    "Now that the mode has been initialized, it can be run. This can be done running the code in the following cell."
   ]
  },
  {
   "cell_type": "code",
   "execution_count": null,
   "metadata": {},
   "outputs": [],
   "source": [
    "import numpy as np\n",
    "import matplotlib.pyplot as plt\n",
    "\n",
    "# Fix the seed\n",
    "SEED = 2\n",
    "rng = np.random.RandomState(seed=SEED)\n",
    "\n",
    "# Generate the input\n",
    "P = np.zeros(100)\n",
    "P[:10] = rng.randint(10, size=10)\n",
    "P[25:30] = rng.randint(20, size=5)\n",
    "P[40:60] = rng.randint(5, size=20)\n",
    "P[80:83] = rng.randint(30, 50, size=3)\n",
    "E = np.ones_like(P) * 2.0 # We use a constant PET\n",
    "\n",
    "# Assign the input\n",
    "model.set_input([P, E])\n",
    "\n",
    "# Set the timestep\n",
    "model.set_timestep(1.0)\n",
    "\n",
    "# Run the model\n",
    "model.reset_states()\n",
    "output = model.get_output()\n",
    "\n",
    "# Inspect internals\n",
    "ur_out = model.call_internal(id='UR', method='get_output', solve=False)[0]\n",
    "ur_e = model.call_internal(id='UR', method='get_AET')[0]\n",
    "ur_s = model.get_internal(id='UR', attribute='state_array')[:, 0]\n",
    "fr_s = model.get_internal(id='FR', attribute='state_array')[:, 0]\n",
    "\n",
    "# Plot\n",
    "fig, ax = plt.subplots(3, 1, figsize=(20, 12), sharex=True)\n",
    "ax[0].bar(x=np.arange(len(P)), height=P, color='royalblue', label='P')\n",
    "ax[0].plot(np.arange(len(P)), E, lw=2, color='gold', label='PET')\n",
    "ax[0].legend()\n",
    "ax[0].set_ylabel('Inputs [mm/day]')\n",
    "ax[0].grid(True)\n",
    "ax[1].plot(np.arange(len(P)), output[0], lw=2, label='Total outflow')\n",
    "ax[1].plot(np.arange(len(P)), ur_e, lw=2, label='AET')\n",
    "ax[1].plot(np.arange(len(P)), ur_out, lw=2, label='Outflow UR')\n",
    "ax[1].set_xlabel('Time [days]')\n",
    "ax[1].set_ylabel('Flows [mm/day]')\n",
    "ax[1].legend()\n",
    "ax[1].grid(True)\n",
    "ax[2].plot(np.arange(len(P)), ur_s, lw=2, label='State UR')\n",
    "ax[2].plot(np.arange(len(P)), fr_s, lw=2, label='State FR')\n",
    "ax[2].set_xlabel('Time [days]')\n",
    "ax[2].set_ylabel('Storages [mm]')\n",
    "ax[2].legend()\n",
    "ax[2].grid(True)\n",
    "pass"
   ]
  }
 ],
 "metadata": {
  "kernelspec": {
   "display_name": "just_sfpy_RC",
   "language": "python",
   "name": "just_sfpy_rc"
  },
  "language_info": {
   "codemirror_mode": {
    "name": "ipython",
    "version": 3
   },
   "file_extension": ".py",
   "mimetype": "text/x-python",
   "name": "python",
   "nbconvert_exporter": "python",
   "pygments_lexer": "ipython3",
   "version": "3.7.8"
  }
 },
 "nbformat": 4,
 "nbformat_minor": 4
}
