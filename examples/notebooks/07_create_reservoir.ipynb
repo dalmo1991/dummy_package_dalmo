{
 "cells": [
  {
   "cell_type": "markdown",
   "metadata": {},
   "source": [
    "# SuperflexPy example 07: Create a new reservoir\n",
    "\n",
    "Author: Marco Dal Molin\n",
    "\n",
    "Collaborators: Fabrizio Fenicia, Dmitri Kavetski"
   ]
  },
  {
   "cell_type": "markdown",
   "metadata": {},
   "source": [
    "## What's in this example\n",
    "\n",
    "This example will cover the following aspects:\n",
    "- [Expand the framework creating a new reservoir](https://superflexpy.readthedocs.io/en/latest/build_element.html#linear-reservoir)\n",
    "\n",
    "By clicking on the items you will be redirected to the documentation page (when available) that explains the arguments in a more detailed way. "
   ]
  },
  {
   "cell_type": "markdown",
   "metadata": {},
   "source": [
    "## What's not in this example\n",
    "\n",
    "The following aspects are already covered in other examples:\n",
    "\n",
    "- [Initialize the new element](./03_init_single_element_model.ipynb)\n",
    "- [Run the element](./01_run_simple_model.ipynb)\n",
    "\n",
    "For this reason we will put only the code need, without further explanations. You can check the other examples by clicking on the items above."
   ]
  },
  {
   "cell_type": "markdown",
   "metadata": {},
   "source": [
    "## Do you want to use this example as a script?\n",
    "\n",
    "Examples of SuperflexPy are created and distributed using Jupyter notebooks because they enable to conjugate runnable code with text explanations. We have decided to not provide the content of the notebooks as script because this would mean duplicating the same content in multiple places, bringing to maintainability problems.\n",
    "\n",
    "If the user wants to download the content of this notebook as a python script, it is possible following the steps:\n",
    "1. If not already done, open this notebook using Binder [![Binder](https://mybinder.org/badge_logo.svg)](TODO)\n",
    "2. Go on File -> Download as -> Python (.py)\n",
    "3. Select the saving path\n",
    "\n",
    "The result is a Python script that contains all the markdown text as comment and the code contained inside the cells."
   ]
  },
  {
   "cell_type": "markdown",
   "metadata": {},
   "source": [
    "## STEP 0: Import of external libraries\n",
    "\n",
    "The execution of the code in this example relies on the following external libraries:\n",
    "- **numpy**: arrays handling\n",
    "- **numba**: runtime compiler\n",
    "\n",
    "We assume that those libraries are already installed together with the latest version of SuperflexPy. Keep in mind that not all the libraries listed above are strictly needed to execute SuperflexPy and, therefore, they are not listed as requirements of SuperflexPy."
   ]
  },
  {
   "cell_type": "code",
   "execution_count": 1,
   "metadata": {},
   "outputs": [],
   "source": [
    "import numpy as np\n",
    "import numba as nb"
   ]
  },
  {
   "cell_type": "markdown",
   "metadata": {},
   "source": [
    "## STEP 1: Define the problem\n",
    "\n",
    "The element is controlled by the following differential equation\n",
    "$$\\frac{\\textrm{d}S}{\\textrm{d}t}=P-Q$$\n",
    "\n",
    "with\n",
    "$$Q=kS$$\n",
    "\n",
    "The solution of the differential equation can be approximated using a numerical method with the equation that, in the general case, becomes:\n",
    "$$\\frac{S_{t+1} - S_{t}}{\\Delta t}=P - Q(S)$$\n",
    "\n",
    "Several numerical methods exist to approximate the solution of the differential equation and, usually, they differ for the state used to evaluate the fluxes: implicit Euler, for example, uses the state at the end of the time step $S_{t+1}$\n",
    "$$\\frac{S_{t+1} - S_{t}}{\\Delta t}=P - kS_{t+1}$$\n",
    "\n",
    "explicit Euler uses the state at the beginning of the time step $S_t$\n",
    "$$\\frac{S_{t+1} - S_{t}}{\\Delta t}=P - kS_{t}$$\n",
    "\n",
    "and so on for other methods.\n",
    "\n",
    "Note that, even if for this simple case the differential equation can be solved analytically and the solution of the numerical approximation can be found without iteration, we will use anyway the numerical solver offered by SuperflexPy to illustrate how to proceed in a more general case where such option is not available."
   ]
  },
  {
   "cell_type": "markdown",
   "metadata": {},
   "source": [
    "## STEP 2: Implement the element"
   ]
  },
  {
   "cell_type": "markdown",
   "metadata": {},
   "source": [
    "### 01. Import the packages od SuperflexPy needed\n",
    "\n",
    "- `superflexpy.framework.element.ODEsElement` class to inherit from"
   ]
  },
  {
   "cell_type": "code",
   "execution_count": 2,
   "metadata": {},
   "outputs": [],
   "source": [
    "from superflexpy.framework.element import ODEsElement"
   ]
  },
  {
   "cell_type": "markdown",
   "metadata": {},
   "source": [
    "### 02. Implement the class LinearReservoir\n",
    "\n",
    "This requires to override 4 (5 with the numba optimization) methods:\n",
    "- `__init__`\n",
    "- `set_input`\n",
    "- `get_output`\n",
    "- `_fluxes_function_python`\n",
    "- `_fluxes_function_numba`"
   ]
  },
  {
   "cell_type": "code",
   "execution_count": 3,
   "metadata": {},
   "outputs": [],
   "source": [
    "class LinearReservoir(ODEsElement):\n",
    "    \"\"\"\n",
    "    This class implements a simple linear reservoir.\n",
    "\n",
    "    Parameters\n",
    "    ----------\n",
    "    parameters : dict\n",
    "        Parameters of the element. The keys must be:\n",
    "            - k : multiplier of the state\n",
    "    states : dict\n",
    "            Initial state of the element. The keys must be:\n",
    "            - 'S0' : initial storage of the reservoir.\n",
    "    approximation : superflexpy.utils.numerical_approximation.NumericalApproximator\n",
    "        Numerial method used to approximate the differential equation\n",
    "    id : str\n",
    "        Itentifier of the element. All the elements of the framework must\n",
    "        have an id.\n",
    "    \"\"\"\n",
    "    \n",
    "    def __init__(self, parameters, states, approximation, id):\n",
    "\n",
    "        ODEsElement.__init__(self,\n",
    "                             parameters=parameters,\n",
    "                             states=states,\n",
    "                             approximation=approximation,\n",
    "                             id=id)\n",
    "\n",
    "        self._fluxes_python = [self._fluxes_function_python]  # Used by get fluxes, regardless of the architecture\n",
    "\n",
    "        if approximation.architecture == 'numba':\n",
    "            self._fluxes = [self._fluxes_function_numba]\n",
    "        elif approximation.architecture == 'python':\n",
    "            self._fluxes = [self._fluxes_function_python]\n",
    "        else:\n",
    "            message = '{}The architecture ({}) of the approximation is not correct'.format(self._error_message,\n",
    "                                                                                           approximation.architecture)\n",
    "            raise ValueError(message)\n",
    "            \n",
    "    def set_input(self, input):\n",
    "        \"\"\"\n",
    "        Set the input of the element.\n",
    "\n",
    "        Parameters\n",
    "        ----------\n",
    "        input : list(numpy.ndarray)\n",
    "            List containing the input fluxes of the element. It contains 1\n",
    "            flux:\n",
    "            1. Rainfall\n",
    "        \"\"\"\n",
    "        \n",
    "        self.input = {'P': input[0]}\n",
    "        \n",
    "    def get_output(self, solve=True):\n",
    "        \"\"\"\n",
    "        This method solves the differential equation governing the routing\n",
    "        store.\n",
    "\n",
    "        Returns\n",
    "        -------\n",
    "        list(numpy.ndarray)\n",
    "            Output fluxes in the following order:\n",
    "            1. Streamflow (Q)\n",
    "        \"\"\"\n",
    "        \n",
    "        if solve:\n",
    "            self._solver_states = [self._states[self._prefix_states + 'S0']]\n",
    "            self._solve_differential_equation()\n",
    "\n",
    "            self.set_states({self._prefix_states + 'S0': self.state_array[-1, 0]})\n",
    "\n",
    "        fluxes = self._num_app.get_fluxes(fluxes=self._fluxes_python,\n",
    "                                          S=self.state_array,\n",
    "                                          S0=self._solver_states,\n",
    "                                          **self.input,\n",
    "                                          **{k[len(self._prefix_parameters):]: self._parameters[k] for k in self._parameters},\n",
    "                                          )\n",
    "\n",
    "        return [- fluxes[0][1]]\n",
    "\n",
    "    @staticmethod\n",
    "    def _fluxes_function_python(S, S0, ind, P, k):\n",
    "\n",
    "        if ind is None:\n",
    "            return (\n",
    "                [\n",
    "                    P,\n",
    "                    - k * S,\n",
    "                ],\n",
    "                0.0,\n",
    "                S0 + P\n",
    "            )\n",
    "        else:\n",
    "            return (\n",
    "                [\n",
    "                    P[ind],\n",
    "                    - k[ind] * S,\n",
    "                ],\n",
    "                0.0,\n",
    "                S0 + P[ind]\n",
    "            )\n",
    "\n",
    "    @staticmethod\n",
    "    @nb.jit('Tuple((UniTuple(f8, 2), f8, f8))(optional(f8), f8, i4, f8[:], f8[:])',\n",
    "            nopython=True)\n",
    "    def _fluxes_function_numba(S, S0, ind, P, k):\n",
    "\n",
    "        return (\n",
    "            (\n",
    "                P[ind],\n",
    "                - k[ind] * S,\n",
    "            ),\n",
    "            0.0,\n",
    "            S0 + P[ind]\n",
    "        )"
   ]
  },
  {
   "cell_type": "markdown",
   "metadata": {},
   "source": [
    "## STEP 3: Initialize and run the model"
   ]
  },
  {
   "cell_type": "code",
   "execution_count": 4,
   "metadata": {},
   "outputs": [
    {
     "data": {
      "image/png": "[encoded data removed]",
      "text/plain": [
       "<Figure size 1440x864 with 2 Axes>"
      ]
     },
     "metadata": {
      "needs_background": "light"
     },
     "output_type": "display_data"
    }
   ],
   "source": [
    "from superflexpy.implementation.computation.pegasus_root_finding import PegasusPython\n",
    "from superflexpy.implementation.computation.implicit_euler import ImplicitEulerPython\n",
    "import matplotlib.pyplot as plt\n",
    "\n",
    "root_finder = PegasusPython()\n",
    "numeric_approximator = ImplicitEulerPython(root_finder=root_finder)\n",
    "\n",
    "lr = LinearReservoir(\n",
    "    parameters={'k': 0.1},\n",
    "    states={'S0': 10.0},\n",
    "    approximation=numeric_approximator,\n",
    "    id='LR'\n",
    ")\n",
    "\n",
    "# Fix the seed\n",
    "SEED = 2\n",
    "rng = np.random.RandomState(seed=SEED)\n",
    "\n",
    "# Generate the input\n",
    "P = np.zeros(100)\n",
    "P[:10] = rng.randint(10, size=10)\n",
    "P[25:30] = rng.randint(20, size=5)\n",
    "P[40:60] = rng.randint(5, size=20)\n",
    "P[80:83] = rng.randint(30, 50, size=3)\n",
    "\n",
    "# Assign the input\n",
    "lr.set_input([P])\n",
    "\n",
    "# Set the timestep\n",
    "lr.set_timestep(1.0)\n",
    "\n",
    "# Run the model\n",
    "output = lr.get_output()\n",
    "\n",
    "# Plot\n",
    "fig, ax = plt.subplots(2, 1, figsize=(20, 12), sharex=True)\n",
    "ax[0].bar(x=np.arange(len(P)), height=P, color='royalblue')\n",
    "ax[0].set_ylabel('Precipitation [mm/day]')\n",
    "ax[0].grid(True)\n",
    "ax[1].plot(np.arange(len(P)), output[0], lw=2, label='Total outflow')\n",
    "ax[1].set_xlabel('Time [days]')\n",
    "ax[1].set_ylabel('Streamflow [mm/day]')\n",
    "ax[1].legend()\n",
    "ax[1].grid(True)\n",
    "pass"
   ]
  }
 ],
 "metadata": {
  "kernelspec": {
   "display_name": "just_sfpy_RC",
   "language": "python",
   "name": "just_sfpy_rc"
  },
  "language_info": {
   "codemirror_mode": {
    "name": "ipython",
    "version": 3
   },
   "file_extension": ".py",
   "mimetype": "text/x-python",
   "name": "python",
   "nbconvert_exporter": "python",
   "pygments_lexer": "ipython3",
   "version": "3.7.8"
  }
 },
 "nbformat": 4,
 "nbformat_minor": 4
}
