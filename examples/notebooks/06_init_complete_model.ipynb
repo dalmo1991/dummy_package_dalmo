{
 "cells": [
  {
   "cell_type": "markdown",
   "metadata": {},
   "source": [
    "# SuperflexPy example 06: Initialize complete (network) model\n",
    "\n",
    "Author: Marco Dal Molin\n",
    "\n",
    "Collaborators: Fabrizio Fenicia, Dmitri Kavetski"
   ]
  },
  {
   "cell_type": "markdown",
   "metadata": {},
   "source": [
    "## What's in this example\n",
    "\n",
    "This example will cover the following aspects:\n",
    "- [Initialize a complete (network) model](TODO)\n",
    "- [Relations between parameters in different nodes](TODO)\n",
    "\n",
    "By clicking on the items you will be redirected to the documentation page (when available) that explains the arguments in a more detailed way. "
   ]
  },
  {
   "cell_type": "markdown",
   "metadata": {},
   "source": [
    "## What's not in this example\n",
    "\n",
    "The following aspects are already covered in other examples:\n",
    "\n",
    "- [Initialize the nodes, the units, and the single elements contained](TODO)\n",
    "- [Run the model](TODO)\n",
    "- [Change states and parameters](TODO)\n",
    "\n",
    "For this reason we will put only the code need, without further explanations. You can check the other examples by clicking on the items above."
   ]
  },
  {
   "cell_type": "markdown",
   "metadata": {},
   "source": [
    "## Do you want to use this example as a script?\n",
    "\n",
    "Examples of SuperflexPy are created and distributed using Jupyter notebooks because they enable to conjugate runnable code with text explanations. We have decided to not provide the content of the notebooks as script because this would mean duplicating the same content in multiple places, bringing to maintainability problems.\n",
    "\n",
    "If the user wants to download the content of this notebook as a python script, it is possible following the steps:\n",
    "1. If not already done, open this notebook using Binder [![Binder](https://mybinder.org/badge_logo.svg)](TODO)\n",
    "2. Go on File -> Download as -> Python (.py)\n",
    "3. Select the saving path\n",
    "\n",
    "The result is a Python script that contains all the markdown text as comment and the code contained inside the cells."
   ]
  },
  {
   "cell_type": "markdown",
   "metadata": {},
   "source": [
    "## STEP 1: Initialize the complete model\n",
    "\n",
    "A complete model is composed by several nodes that operate sequentially, from upstream to downstream, within the network. In this example, we will consider a case where there are 2 upstream nodes that flow into a downstream one."
   ]
  },
  {
   "cell_type": "markdown",
   "metadata": {},
   "source": [
    "### 01. Import an initialize the numerical routines, the elements, the units, and the nodes\n",
    "\n",
    "All the nodes contained in the network must be, first, initialized. This can be done with the following code."
   ]
  },
  {
   "cell_type": "code",
   "execution_count": null,
   "metadata": {},
   "outputs": [],
   "source": [
    "from superflexpy.implementation.computation.pegasus_root_finding import PegasusPython\n",
    "from superflexpy.implementation.computation.implicit_euler import ImplicitEulerPython\n",
    "from superflexpy.implementation.elements.hbv import FastReservoir\n",
    "from superflexpy.framework.unit import Unit\n",
    "from superflexpy.framework.node import Node\n",
    "\n",
    "# Initialize numercal routines\n",
    "root_finder = PegasusPython()\n",
    "numeric_approximator = ImplicitEulerPython(root_finder=root_finder)\n",
    "\n",
    "# Initialize the elements\n",
    "e1 = FastReservoir(\n",
    "    parameters={'k': 0.1, 'alpha': 1.0},\n",
    "    states={'S0': 10.0},\n",
    "    approximation=numeric_approximator,\n",
    "    id='E1'\n",
    ")\n",
    "\n",
    "e2 = FastReservoir(\n",
    "    parameters={'k': 0.1, 'alpha': 1.0},\n",
    "    states={'S0': 10.0},\n",
    "    approximation=numeric_approximator,\n",
    "    id='E2'\n",
    ")\n",
    "\n",
    "e3 = FastReservoir(\n",
    "    parameters={'k': 0.1, 'alpha': 1.0},\n",
    "    states={'S0': 10.0},\n",
    "    approximation=numeric_approximator,\n",
    "    id='E3'\n",
    ")\n",
    "\n",
    "u1 = Unit(\n",
    "    layers=[\n",
    "        [e1],\n",
    "        [e2]\n",
    "    ],\n",
    "    id='U1'\n",
    ")\n",
    "\n",
    "u2 = Unit(\n",
    "    layers=[\n",
    "        [e3],\n",
    "    ],\n",
    "    id='U2'\n",
    ")\n",
    "\n",
    "node1 = Node(\n",
    "    units=[u1, u2],\n",
    "    weights=[0.7, 0.3],\n",
    "    area=1.0,\n",
    "    id='N1'\n",
    ")\n",
    "\n",
    "node2 = Node(\n",
    "    units=[u1, u2],\n",
    "    weights=[0.1, 0.9],\n",
    "    area=2.0,\n",
    "    id='N2'\n",
    ")\n",
    "\n",
    "node3 = Node(\n",
    "    units=[u1],\n",
    "    weights=[1.0],\n",
    "    area=0.5,\n",
    "    id='N3'\n",
    ")"
   ]
  },
  {
   "cell_type": "markdown",
   "metadata": {},
   "source": [
    "### 02. Initialize the network\n",
    "\n",
    "Now that the nodes are all initialized, they can be added to a network to contribute together to its outflow."
   ]
  },
  {
   "cell_type": "code",
   "execution_count": null,
   "metadata": {},
   "outputs": [],
   "source": [
    "from superflexpy.framework.network import Network\n",
    "\n",
    "model = Network(\n",
    "    nodes=[node1, node2, node3],\n",
    "    topography={\n",
    "        'N1': 'N3',\n",
    "        'N2': 'N3',\n",
    "        'N3': None,\n",
    "    }\n",
    ")"
   ]
  },
  {
   "cell_type": "markdown",
   "metadata": {},
   "source": [
    "## STEP 2: Run the model\n",
    "\n",
    "Now that the model has been initialized, it can be run. This can be done running the code in the following cell."
   ]
  },
  {
   "cell_type": "markdown",
   "metadata": {},
   "source": [
    "### 01. Assign the input to the nodes\n",
    "\n",
    "Unlike the other components, the network does not have the method `set_input` because, due to their spatial distribution, the inputs are usually node specific. For\n",
    "this reason the `set_input` method of the single nodes must be used."
   ]
  },
  {
   "cell_type": "code",
   "execution_count": null,
   "metadata": {},
   "outputs": [],
   "source": [
    "import numpy as np\n",
    "\n",
    "# Fix the seed\n",
    "SEED = 2\n",
    "rng = np.random.RandomState(seed=SEED)\n",
    "\n",
    "# Generate the input\n",
    "P1 = np.zeros(100)\n",
    "P1[:10] = np.random.randint(10, size=10)\n",
    "P1[25:30] = np.random.randint(20, size=5)\n",
    "P1[40:60] = np.random.randint(5, size=20)\n",
    "P1[80:83] = np.random.randint(30, 50, size=3)\n",
    "\n",
    "# Assign the input\n",
    "node1.set_input([P1])\n",
    "\n",
    "# Generate the input\n",
    "P2 = np.zeros(100)\n",
    "P2[:10] = np.random.randint(10, size=10)\n",
    "P2[25:30] = np.random.randint(20, size=5)\n",
    "P2[40:60] = np.random.randint(5, size=20)\n",
    "P2[80:83] = np.random.randint(30, 50, size=3)\n",
    "\n",
    "# Assign the input\n",
    "node2.set_input([P2])\n",
    "\n",
    "# Generate the input\n",
    "P3 = np.zeros(100)\n",
    "P3[:10] = np.random.randint(10, size=10)\n",
    "P3[25:30] = np.random.randint(20, size=5)\n",
    "P3[40:60] = np.random.randint(5, size=20)\n",
    "P3[80:83] = np.random.randint(30, 50, size=3)\n",
    "\n",
    "# Assign the input\n",
    "node3.set_input([P3])"
   ]
  },
  {
   "cell_type": "markdown",
   "metadata": {},
   "source": [
    "### 02. Run the model\n",
    "\n",
    "Apart from this difference, now the network can be run as in the previous examples."
   ]
  },
  {
   "cell_type": "code",
   "execution_count": null,
   "metadata": {},
   "outputs": [],
   "source": [
    "import matplotlib.pyplot as plt\n",
    "\n",
    "# Set the timestep\n",
    "model.set_timestep(1.0)\n",
    "\n",
    "# Run the model\n",
    "output = model.get_output()\n",
    "\n",
    "# Plot\n",
    "fig, ax = plt.subplots(4, 1, figsize=(20, 12), sharex=True)\n",
    "ax[0].bar(x=np.arange(len(P1)), height=P1, color='royalblue', label='Node 1')\n",
    "ax[0].set_ylabel('Precipitation [mm/day]')\n",
    "ax[0].legend()\n",
    "ax[0].grid(True)\n",
    "ax[1].bar(x=np.arange(len(P2)), height=P2, color='royalblue', label='Node 2')\n",
    "ax[1].set_ylabel('Precipitation [mm/day]')\n",
    "ax[1].legend()\n",
    "ax[1].grid(True)\n",
    "ax[2].bar(x=np.arange(len(P3)), height=P3, color='royalblue', label='Node 3')\n",
    "ax[2].set_ylabel('Precipitation [mm/day]')\n",
    "ax[2].legend()\n",
    "ax[2].grid(True)\n",
    "ax[3].plot(np.arange(len(P1)), output['N1'][0], lw=2, label='Node 1')\n",
    "ax[3].plot(np.arange(len(P1)), output['N2'][0], lw=2, label='Node 2')\n",
    "ax[3].plot(np.arange(len(P1)), output['N3'][0], lw=2, label='Node 3')\n",
    "ax[3].set_xlabel('Time [days]')\n",
    "ax[3].set_ylabel('Streamflow [mm/day]')\n",
    "ax[3].legend()\n",
    "ax[3].grid(True)\n",
    "pass"
   ]
  },
  {
   "cell_type": "markdown",
   "metadata": {},
   "source": [
    "## STEP 3: Shared parameters\n",
    "\n",
    "As explained in the [documentation](TODO), it may be useful to share the parameters of the elements contained in the same units among different nodes. This is the default behavior of SuperflexPy that can be avoided setting the parameter `shared_parameters`  to `False` when initializing the node."
   ]
  },
  {
   "cell_type": "markdown",
   "metadata": {},
   "source": [
    "### 01. Parameter identifiers\n",
    "\n",
    "When parameters are shared, their identifier does not contain the `id` of the node since, in practice, they do not belong to a specific node, but just to the unit."
   ]
  },
  {
   "cell_type": "code",
   "execution_count": null,
   "metadata": {},
   "outputs": [],
   "source": [
    "print(model.get_parameters_name())"
   ]
  },
  {
   "cell_type": "markdown",
   "metadata": {},
   "source": [
    "### 02. Changing parameters\n",
    "\n",
    "When the value of a parameter is changed in a node then this change affects also the other nodes that contain that unit."
   ]
  },
  {
   "cell_type": "code",
   "execution_count": null,
   "metadata": {},
   "outputs": [],
   "source": [
    "print('Value of U1_E1_k in node 2')\n",
    "print(node2.get_parameters(['U1_E1_k']))\n",
    "print('Changing U1_E1_k in node 1')\n",
    "node1.set_parameters({'U1_E1_k': 0.2})\n",
    "print('Value of U1_E1_k in node 1')\n",
    "print(node1.get_parameters(['U1_E1_k']))\n",
    "print('Value of U1_E1_k in node 2')\n",
    "print(node2.get_parameters(['U1_E1_k']))"
   ]
  },
  {
   "cell_type": "markdown",
   "metadata": {},
   "source": [
    "### 03. States are node specific\n",
    "\n",
    "This concept does not apply to states, which are node specific."
   ]
  },
  {
   "cell_type": "code",
   "execution_count": null,
   "metadata": {},
   "outputs": [],
   "source": [
    "print(model.get_states())"
   ]
  }
 ],
 "metadata": {
  "kernelspec": {
   "display_name": "just_sfpy_RC",
   "language": "python",
   "name": "just_sfpy_rc"
  },
  "language_info": {
   "codemirror_mode": {
    "name": "ipython",
    "version": 3
   },
   "file_extension": ".py",
   "mimetype": "text/x-python",
   "name": "python",
   "nbconvert_exporter": "python",
   "pygments_lexer": "ipython3",
   "version": "3.7.8"
  }
 },
 "nbformat": 4,
 "nbformat_minor": 4
}
