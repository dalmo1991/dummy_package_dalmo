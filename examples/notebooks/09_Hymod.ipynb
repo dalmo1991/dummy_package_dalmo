{
 "cells": [
  {
   "cell_type": "markdown",
   "metadata": {},
   "source": [
    "# SuperflexPy example 09: Implement Hymod\n",
    "\n",
    "Author: Marco Dal Molin\n",
    "\n",
    "Collaborators: Fabrizio Fenicia, Dmitri Kavetski"
   ]
  },
  {
   "cell_type": "markdown",
   "metadata": {},
   "source": [
    "## What's in this example\n",
    "\n",
    "This example will cover the following aspects:\n",
    "- [Implement the lumped model Hymod presented in Boyle, 2001](https://superflexpy.readthedocs.io/en/latest/popular_models.html#hymod)\n",
    "\n",
    "By clicking on the items you will be redirected to the documentation page (when available) that explains the arguments in a more detailed way. \n",
    "\n",
    "REFERENCE: Boyle, D. P. (2001). Multicriteria calibration of hydrologic models, The University of Arizona."
   ]
  },
  {
   "cell_type": "markdown",
   "metadata": {},
   "source": [
    "## What's not in this example\n",
    "\n",
    "The following aspects are already covered in other examples:\n",
    "\n",
    "- [Initialize elements and connect them with a unit](./04_init_single_unit_model.ipynb)\n",
    "- [Run the model](./01_run_simple_model.ipynb)\n",
    "- [Change states and parameters](./01_run_simple_model.ipynb)\n",
    "\n",
    "For this reason we will put only the code need, without further explanations. You can check the other examples by clicking on the items above."
   ]
  },
  {
   "cell_type": "markdown",
   "metadata": {},
   "source": [
    "## Do you want to use this example as a script?\n",
    "\n",
    "Examples of SuperflexPy are created and distributed using Jupyter notebooks because they enable to conjugate runnable code with text explanations. We have decided to not provide the content of the notebooks as script because this would mean duplicating the same content in multiple places, bringing to maintainability problems.\n",
    "\n",
    "If the user wants to download the content of this notebook as a python script, it is possible following the steps:\n",
    "1. If not already done, open this notebook using Binder [![Binder](https://mybinder.org/badge_logo.svg)](TODO)\n",
    "2. Go on File -> Download as -> Python (.py)\n",
    "3. Select the saving path\n",
    "\n",
    "The result is a Python script that contains all the markdown text as comment and the code contained inside the cells."
   ]
  },
  {
   "cell_type": "markdown",
   "metadata": {},
   "source": [
    "## STEP 1: Initialize the model\n",
    "\n",
    "The model M4 is composed by 2 elements in series: an unsaturated reservoir and a fast reservoir. Both elements have already been implemented and can be imported from `superflexpy.implementation.elements.hymod`."
   ]
  },
  {
   "cell_type": "code",
   "execution_count": null,
   "metadata": {},
   "outputs": [],
   "source": [
    "from superflexpy.implementation.computation.pegasus_root_finding import PegasusPython\n",
    "from superflexpy.implementation.computation.implicit_euler import ImplicitEulerPython\n",
    "from superflexpy.implementation.elements.hymod import UpperZone, LinearReservoir\n",
    "from superflexpy.implementation.elements.structure_elements import Junction, Splitter, Transparent\n",
    "from superflexpy.framework.unit import Unit\n",
    "\n",
    "root_finder = PegasusPython()  # Use the default parameters\n",
    "numerical_approximation = ImplicitEulerPython(root_finder)\n",
    "\n",
    "upper_zone = UpperZone(parameters={'Smax': 50.0, 'm': 0.01, 'beta': 2.0},\n",
    "                       states={'S0': 10.0},\n",
    "                       approximation=numerical_approximation,\n",
    "                       id='uz')\n",
    "\n",
    "splitter = Splitter(weight=[[0.6], [0.4]],\n",
    "                    direction=[[0], [0]],\n",
    "                    id='spl')\n",
    "\n",
    "channel_routing_1 = LinearReservoir(parameters={'k': 0.1},\n",
    "                                    states={'S0': 10.0},\n",
    "                                    approximation=numerical_approximation,\n",
    "                                    id='cr1')\n",
    "\n",
    "channel_routing_2 = LinearReservoir(parameters={'k': 0.1},\n",
    "                                    states={'S0': 10.0},\n",
    "                                    approximation=numerical_approximation,\n",
    "                                    id='cr2')\n",
    "\n",
    "channel_routing_3 = LinearReservoir(parameters={'k': 0.1},\n",
    "                                    states={'S0': 10.0},\n",
    "                                    approximation=numerical_approximation,\n",
    "                                    id='cr3')\n",
    "\n",
    "lower_zone = LinearReservoir(parameters={'k': 0.1},\n",
    "                             states={'S0': 10.0},\n",
    "                             approximation=numerical_approximation,\n",
    "                             id='lz')\n",
    "\n",
    "transparent_1 = Transparent(id='tr1')\n",
    "\n",
    "transparent_2 = Transparent(id='tr2')\n",
    "\n",
    "junction = Junction(direction=[[0, 0]],  # First output\n",
    "                    id='jun')\n",
    "\n",
    "model = Unit(layers=[[upper_zone],\n",
    "                     [splitter],\n",
    "                     [channel_routing_1, lower_zone],\n",
    "                     [channel_routing_2, transparent_1],\n",
    "                     [channel_routing_3, transparent_2],\n",
    "                     [junction]],\n",
    "             id='model')"
   ]
  },
  {
   "cell_type": "markdown",
   "metadata": {},
   "source": [
    "## STEP 2: Run the model\n",
    "\n",
    "Now that the mode has been initialized, it can be run. This can be done running the code in the following cell."
   ]
  },
  {
   "cell_type": "code",
   "execution_count": null,
   "metadata": {},
   "outputs": [],
   "source": [
    "import numpy as np\n",
    "import matplotlib.pyplot as plt\n",
    "\n",
    "# Fix the seed\n",
    "SEED = 2\n",
    "rng = np.random.RandomState(seed=SEED)\n",
    "\n",
    "# Generate the input\n",
    "P = np.zeros(100)\n",
    "P[:10] = rng.randint(10, size=10)\n",
    "P[25:30] = rng.randint(20, size=5)\n",
    "P[40:60] = rng.randint(5, size=20)\n",
    "P[80:83] = rng.randint(30, 50, size=3)\n",
    "E = np.ones_like(P) * 2.0 # We use a constant PET\n",
    "\n",
    "# Assign the input\n",
    "model.set_input([P, E])\n",
    "\n",
    "# Set the timestep\n",
    "model.set_timestep(1.0)\n",
    "\n",
    "# Run the model\n",
    "model.reset_states()\n",
    "output = model.get_output()\n",
    "\n",
    "# Inspect internals\n",
    "uz_out = model.call_internal(id='uz', method='get_output', solve=False)[0]\n",
    "cr3_out = model.call_internal(id='cr3', method='get_output', solve=False)[0]\n",
    "lz_out = model.call_internal(id='lz', method='get_output', solve=False)[0]\n",
    "uz_e = model.call_internal(id='uz', method='get_AET')[0]\n",
    "uz_s = model.get_internal(id='uz', attribute='state_array')[:, 0]\n",
    "cr3_s = model.get_internal(id='cr3', attribute='state_array')[:, 0]\n",
    "lz_s = model.get_internal(id='lz', attribute='state_array')[:, 0]\n",
    "\n",
    "# Plot\n",
    "fig, ax = plt.subplots(3, 1, figsize=(20, 12), sharex=True)\n",
    "ax[0].bar(x=np.arange(len(P)), height=P, color='royalblue', label='P')\n",
    "ax[0].plot(np.arange(len(P)), E, lw=2, color='gold', label='PET')\n",
    "ax[0].legend()\n",
    "ax[0].set_ylabel('Inputs [mm/day]')\n",
    "ax[0].grid(True)\n",
    "ax[1].plot(np.arange(len(P)), output[0], lw=2, label='Total outflow')\n",
    "ax[1].plot(np.arange(len(P)), uz_e, lw=2, label='AET')\n",
    "ax[1].plot(np.arange(len(P)), uz_out, lw=2, label='Outflow upper zone')\n",
    "ax[1].plot(np.arange(len(P)), cr3_out, lw=2, label='Outflow channel routing')\n",
    "ax[1].plot(np.arange(len(P)), lz_out, lw=2, label='Outflow lower zone')\n",
    "ax[1].set_xlabel('Time [days]')\n",
    "ax[1].set_ylabel('Flows [mm/day]')\n",
    "ax[1].legend()\n",
    "ax[1].grid(True)\n",
    "ax[2].plot(np.arange(len(P)), uz_s, lw=2, label='State upper zone')\n",
    "ax[2].plot(np.arange(len(P)), cr3_s, lw=2, label='State channel routing')\n",
    "ax[2].plot(np.arange(len(P)), lz_s, lw=2, label='State lower zone')\n",
    "ax[2].set_xlabel('Time [days]')\n",
    "ax[2].set_ylabel('Storages [mm]')\n",
    "ax[2].legend()\n",
    "ax[2].grid(True)\n",
    "pass"
   ]
  }
 ],
 "metadata": {
  "kernelspec": {
   "display_name": "just_sfpy_RC",
   "language": "python",
   "name": "just_sfpy_rc"
  },
  "language_info": {
   "codemirror_mode": {
    "name": "ipython",
    "version": 3
   },
   "file_extension": ".py",
   "mimetype": "text/x-python",
   "name": "python",
   "nbconvert_exporter": "python",
   "pygments_lexer": "ipython3",
   "version": "3.7.8"
  }
 },
 "nbformat": 4,
 "nbformat_minor": 4
}
