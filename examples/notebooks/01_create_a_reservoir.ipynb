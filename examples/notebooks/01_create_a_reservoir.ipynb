{
 "cells": [
  {
   "cell_type": "markdown",
   "metadata": {},
   "source": [
    "[![Binder](https://mybinder.org/badge_logo.svg)](https://mybinder.org/v2/gh/dalmo1991/dummy_package_dalmo/master?filepath=examples%2Fnotebooks%2F%2001_create_a_reservoir.ipynb)"
   ]
  },
  {
   "cell_type": "code",
   "execution_count": null,
   "metadata": {},
   "outputs": [],
   "source": [
    "# TODO:\n",
    "# - Add Colab button\n",
    "# - Update if the corrisponding doc page changes (build_element.rst)\n",
    "# - Remove version from pip install\n",
    "# - Link to documentation page\n",
    "# - Add link on \"what to do next\""
   ]
  },
  {
   "cell_type": "markdown",
   "metadata": {},
   "source": [
    "# Create a new reservoir"
   ]
  },
  {
   "cell_type": "markdown",
   "metadata": {},
   "source": [
    "This tutorial will show how to use the `ODEsElement` provided by the framework to construct a linear reservoir. Look at the documentation **LINK** for the explenation line by line of the code."
   ]
  },
  {
   "cell_type": "markdown",
   "metadata": {},
   "source": [
    "## Equations\n",
    "\n",
    "The element is controlled by the following differential equation\n",
    "$$\\frac{\\textrm{d}S}{\\textrm{d}t}=P-Q$$\n",
    "\n",
    "with\n",
    "$$Q=kS$$\n",
    "\n",
    "The solution of the differential equation can be approximated using a numerical method with the equation that, in the general case, becomes:\n",
    "$$\\frac{S_{t+1} - S_{t}}{\\Delta t}=P - Q(S)$$\n",
    "\n",
    "Several numerical methods exist to approximate the solution of the differential equation and, usually, they differ for the state used to evaluate the fluxes: implicit Euler, for example, uses the state at the end of the time step $S_{t+1}$\n",
    "$$\\frac{S_{t+1} - S_{t}}{\\Delta t}=P - kS_{t+1}$$\n",
    "\n",
    "explicit Euler uses the state at the beginning of the time step $S_t$\n",
    "$$\\frac{S_{t+1} - S_{t}}{\\Delta t}=P - kS_{t}$$\n",
    "\n",
    "and so on for other methods.\n",
    "\n",
    "Note that, even if for this simple case the differential equation can be solved analytically and the solution of the numerical approximation can be found without iteration, we will use anyway the numerical solver offered by SuperflexPy to illustrate how to proceed in a more general case where such option is not available."
   ]
  },
  {
   "cell_type": "markdown",
   "metadata": {},
   "source": [
    "## Implementation"
   ]
  },
  {
   "cell_type": "markdown",
   "metadata": {},
   "source": [
    "### 01. Install the latest version of the framework\n",
    "\n",
    "Run the following command to install the framework, if not already done."
   ]
  },
  {
   "cell_type": "code",
   "execution_count": null,
   "metadata": {},
   "outputs": [],
   "source": [
    "! pip install superflexpy==0.0.9"
   ]
  },
  {
   "cell_type": "markdown",
   "metadata": {},
   "source": [
    "### 02. Import the packages needed\n",
    "\n",
    "- Numba, for numerical optimization\n",
    "- `superflexpy.framework.element.ODEsElement` class to inherit from"
   ]
  },
  {
   "cell_type": "code",
   "execution_count": null,
   "metadata": {},
   "outputs": [],
   "source": [
    "import numba as nb\n",
    "from superflexpy.framework.element import ODEsElement"
   ]
  },
  {
   "cell_type": "markdown",
   "metadata": {},
   "source": [
    "### 03. Implement the class LinearReservoir\n",
    "\n",
    "This requires to override 4 (5 with the numba optimization) methods:\n",
    "- `__init__`\n",
    "- `set_input`\n",
    "- `get_output`\n",
    "- `_fluxes_function_python`\n",
    "- `_fluxes_function_numba`"
   ]
  },
  {
   "cell_type": "code",
   "execution_count": null,
   "metadata": {},
   "outputs": [],
   "source": [
    "class LinearReservoir(ODEsElement):\n",
    "    \"\"\"\n",
    "    This class implements a simple linear reservoir.\n",
    "\n",
    "    Parameters\n",
    "    ----------\n",
    "    parameters : dict\n",
    "        Parameters of the element. The keys must be:\n",
    "            - k : multiplier of the state\n",
    "    states : dict\n",
    "            Initial state of the element. The keys must be:\n",
    "            - 'S0' : initial storage of the reservoir.\n",
    "    approximation : superflexpy.utils.numerical_approximation.NumericalApproximator\n",
    "        Numerial method used to approximate the differential equation\n",
    "    id : str\n",
    "        Itentifier of the element. All the elements of the framework must\n",
    "        have an id.\n",
    "    \"\"\"\n",
    "    \n",
    "    def __init__(self, parameters, states, approximation, id):\n",
    "\n",
    "        ODEsElement.__init__(self,\n",
    "                             parameters=parameters,\n",
    "                             states=states,\n",
    "                             approximation=approximation,\n",
    "                             id=id)\n",
    "\n",
    "        self._fluxes_python = [self._fluxes_function_python]  # Used by get fluxes, regardless of the architecture\n",
    "\n",
    "        if approximation.architecture == 'numba':\n",
    "            self._fluxes = [self._fluxes_function_numba]\n",
    "        elif approximation.architecture == 'python':\n",
    "            self._fluxes = [self._fluxes_function_python]\n",
    "        else:\n",
    "            message = '{}The architecture ({}) of the approximation is not correct'.format(self._error_message,\n",
    "                                                                                           approximation.architecture)\n",
    "            raise ValueError(message)\n",
    "            \n",
    "    def set_input(self, input):\n",
    "        \"\"\"\n",
    "        Set the input of the element.\n",
    "\n",
    "        Parameters\n",
    "        ----------\n",
    "        input : list(numpy.ndarray)\n",
    "            List containing the input fluxes of the element. It contains 1\n",
    "            flux:\n",
    "            1. Rainfall\n",
    "        \"\"\"\n",
    "        \n",
    "        self.input = {'P': input[0]}\n",
    "        \n",
    "    def get_output(self, solve=True):\n",
    "        \"\"\"\n",
    "        This method solves the differential equation governing the routing\n",
    "        store.\n",
    "\n",
    "        Returns\n",
    "        -------\n",
    "        list(numpy.ndarray)\n",
    "            Output fluxes in the following order:\n",
    "            1. Streamflow (Q)\n",
    "        \"\"\"\n",
    "        \n",
    "        if solve:\n",
    "            self._solver_states = [self._states[self._prefix_states + 'S0']]\n",
    "            self._solve_differential_equation()\n",
    "\n",
    "            self.set_states({self._prefix_states + 'S0': self.state_array[-1, 0]})\n",
    "\n",
    "        fluxes = self._num_app.get_fluxes(fluxes=self._fluxes_python,\n",
    "                                          S=self.state_array,\n",
    "                                          S0=self._solver_states,\n",
    "                                          **self.input,\n",
    "                                          **{k[len(self._prefix_parameters):]: self._parameters[k] for k in self._parameters},\n",
    "                                          )\n",
    "\n",
    "        return [- fluxes[0][1]]\n",
    "\n",
    "    @staticmethod\n",
    "    def _fluxes_function_python(S, S0, ind, P, k):\n",
    "\n",
    "        if ind is None:\n",
    "            return (\n",
    "                [\n",
    "                    P,\n",
    "                    - k * S,\n",
    "                ],\n",
    "                0.0,\n",
    "                S0 + P\n",
    "            )\n",
    "        else:\n",
    "            return (\n",
    "                [\n",
    "                    P[ind],\n",
    "                    - k[ind] * S,\n",
    "                ],\n",
    "                0.0,\n",
    "                S0 + P[ind]\n",
    "            )\n",
    "\n",
    "    @staticmethod\n",
    "    @nb.jit('Tuple((UniTuple(f8, 2), f8, f8))(optional(f8), f8, i4, f8[:], f8[:])',\n",
    "            nopython=True)\n",
    "    def _fluxes_function_numba(S, S0, ind, P, k):\n",
    "\n",
    "        return (\n",
    "            (\n",
    "                P[ind],\n",
    "                - k[ind] * S,\n",
    "            ),\n",
    "            0.0,\n",
    "            S0 + P[ind]\n",
    "        )"
   ]
  },
  {
   "cell_type": "markdown",
   "metadata": {},
   "source": [
    "## Where to go next\n",
    "\n",
    "- Use the created element **LINK**\n",
    "- Plug the element into a Unit **LINK**"
   ]
  }
 ],
 "metadata": {
  "kernelspec": {
   "display_name": "just_sfpy_RC",
   "language": "python",
   "name": "just_sfpy_rc"
  },
  "language_info": {
   "codemirror_mode": {
    "name": "ipython",
    "version": 3
   },
   "file_extension": ".py",
   "mimetype": "text/x-python",
   "name": "python",
   "nbconvert_exporter": "python",
   "pygments_lexer": "ipython3",
   "version": "3.7.8"
  }
 },
 "nbformat": 4,
 "nbformat_minor": 4
}