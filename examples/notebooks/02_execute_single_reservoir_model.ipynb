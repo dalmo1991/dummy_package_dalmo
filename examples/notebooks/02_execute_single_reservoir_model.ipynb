{
 "cells": [
  {
   "cell_type": "code",
   "execution_count": null,
   "metadata": {},
   "outputs": [],
   "source": [
    "# TODO:\n",
    "# - Add Colab button\n",
    "# - Remove version from pip install\n",
    "# - Add link on \"what to do next\""
   ]
  },
  {
   "cell_type": "markdown",
   "metadata": {},
   "source": [
    "# Run a single-reservoir model"
   ]
  },
  {
   "cell_type": "markdown",
   "metadata": {},
   "source": [
    "This tutorial will show how to initialize and run a single-reservoir model.\n",
    "\n",
    "We will assume that the element has already been created as shown in the tutorial **LINK** and, therefore, we will just import it, as part of the SuperflexPy elements library."
   ]
  },
  {
   "cell_type": "markdown",
   "metadata": {},
   "source": [
    "## Initialize and run the element\n",
    "\n",
    "In this tutorial we will use the `FastReservoir` implemented as part of the *HBV* library. The element is controlled by the equation\n",
    "\n",
    "$$\\frac{\\textrm{d}S}{\\textrm{d}t}=P-kS^\\alpha$$\n"
   ]
  },
  {
   "cell_type": "markdown",
   "metadata": {},
   "source": [
    "### 01. Install the latest version of the framework\n",
    "\n",
    "Run the following command to install the framework, if not already done."
   ]
  },
  {
   "cell_type": "code",
   "execution_count": null,
   "metadata": {},
   "outputs": [],
   "source": [
    "! pip install superflexpy==0.0.9"
   ]
  },
  {
   "cell_type": "markdown",
   "metadata": {},
   "source": [
    "### 02. Import and initialize the numerical routines needed to solve the differential equations\n",
    "\n",
    "- Numerical approximator\n",
    "- Root finder"
   ]
  },
  {
   "cell_type": "code",
   "execution_count": null,
   "metadata": {},
   "outputs": [],
   "source": [
    "from superflexpy.implementation.computation.implicit_euler import ImplicitEulerPython\n",
    "from superflexpy.implementation.computation.pegasus_root_finding import PegasusPython\n",
    "\n",
    "root_finder = PegasusPython()\n",
    "numerical_approximator = ImplicitEulerPython(root_finder=root_finder)"
   ]
  },
  {
   "cell_type": "markdown",
   "metadata": {},
   "source": [
    "### 03. Import and initialize the element"
   ]
  },
  {
   "cell_type": "code",
   "execution_count": null,
   "metadata": {},
   "outputs": [],
   "source": [
    "from superflexpy.implementation.elements.hbv import FastReservoir\n",
    "\n",
    "fast_reservoir = FastReservoir(\n",
    "    parameters={'k': 0.01, 'alpha': 2.0},\n",
    "    states={'S0': 10.0},\n",
    "    approximation=numerical_approximator,\n",
    "    id='FR'\n",
    ")"
   ]
  },
  {
   "cell_type": "markdown",
   "metadata": {},
   "source": [
    "### 04. Generare input time series and assign them to the model"
   ]
  },
  {
   "cell_type": "code",
   "execution_count": null,
   "metadata": {},
   "outputs": [],
   "source": [
    "import numpy as np\n",
    "P = np.zeros(100)\n",
    "rng = np.random.RandomState(seed=1)\n",
    "P[:10] = np.random.randint(10, size=10)\n",
    "P[25:30] = np.random.randint(20, size=5)\n",
    "P[40:60] = np.random.randint(5, size=20)\n",
    "P[80:83] = np.random.randint(30, 50, size=3)"
   ]
  },
  {
   "cell_type": "code",
   "execution_count": null,
   "metadata": {},
   "outputs": [],
   "source": [
    "fast_reservoir.set_input([P])"
   ]
  },
  {
   "cell_type": "markdown",
   "metadata": {},
   "source": [
    "### 05. Set the timestep"
   ]
  },
  {
   "cell_type": "code",
   "execution_count": null,
   "metadata": {},
   "outputs": [],
   "source": [
    "fast_reservoir.set_timestep(1.0)"
   ]
  },
  {
   "cell_type": "markdown",
   "metadata": {},
   "source": [
    "### 06. Run the model"
   ]
  },
  {
   "cell_type": "code",
   "execution_count": null,
   "metadata": {},
   "outputs": [],
   "source": [
    "output = fast_reservoir.get_output()"
   ]
  },
  {
   "cell_type": "markdown",
   "metadata": {},
   "source": [
    "### 07. Check the results"
   ]
  },
  {
   "cell_type": "code",
   "execution_count": null,
   "metadata": {},
   "outputs": [],
   "source": [
    "import matplotlib.pyplot as plt\n",
    "\n",
    "fig, ax = plt.subplots(2, 1, sharex=True, figsize=(20, 15))\n",
    "\n",
    "ax[0].bar(x=np.arange(len(P)), height=P)\n",
    "ax[0].set_ylabel('Precipitation [mm/day]')\n",
    "ax[0].grid(True)\n",
    "\n",
    "ax[1].plot(np.arange(len(P)), output[0], lw=2)\n",
    "ax[1].set_ylabel('Streamflow [mm/day]')\n",
    "ax[1].set_xlabel('Time [day]')\n",
    "ax[1].grid(True)\n",
    "pass"
   ]
  }
 ],
 "metadata": {
  "kernelspec": {
   "display_name": "just_sfpy_RC",
   "language": "python",
   "name": "just_sfpy_rc"
  },
  "language_info": {
   "codemirror_mode": {
    "name": "ipython",
    "version": 3
   },
   "file_extension": ".py",
   "mimetype": "text/x-python",
   "name": "python",
   "nbconvert_exporter": "python",
   "pygments_lexer": "ipython3",
   "version": "3.7.8"
  }
 },
 "nbformat": 4,
 "nbformat_minor": 4
}
