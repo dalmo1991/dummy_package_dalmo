{
 "cells": [
  {
   "cell_type": "markdown",
   "metadata": {},
   "source": [
    "# SuperflexPy example 02: Calibrate a model\n",
    "\n",
    "Author: Marco Dal Molin\n",
    "\n",
    "Collaborators: Fabrizio Fenicia, Dmitri Kavetski"
   ]
  },
  {
   "cell_type": "markdown",
   "metadata": {},
   "source": [
    "## What's in this example\n",
    "\n",
    "This example will cover the following aspects:\n",
    "- Calibration of a simple model\n",
    "- [Benefits of using the numba implementation](https://superflexpy.readthedocs.io/en/latest/)\n",
    "\n",
    "By clicking on the items you will be redirected to the documentation page (when available) that explains the arguments in a more detailed way. "
   ]
  },
  {
   "cell_type": "markdown",
   "metadata": {},
   "source": [
    "## What's not in this example\n",
    "\n",
    "The following aspects are already covered in other examples:\n",
    "\n",
    "- [Initialize already implemented elements](./03_init_single_element_model.ipynb)\n",
    "- [Put elements together to initialize a Unit](./04_init_single_unit_model.ipynb)\n",
    "- [Run a model](./01_run_simple_model.ipynb)\n",
    "- [Change states and parameters](./01_run_simple_model.ipynb)\n",
    "\n",
    "For this reason we will put only the code need, without further explanations. You can check the other examples by clicking on the items above."
   ]
  },
  {
   "cell_type": "markdown",
   "metadata": {},
   "source": [
    "## Do you want to use this example as a script?\n",
    "\n",
    "Examples of SuperflexPy are created and distributed using Jupyter notebooks because they enable to conjugate runnable code with text explanations. We have decided to not provide the content of the notebooks as script because this would mean duplicating the same content in multiple places, bringing to maintainability problems.\n",
    "\n",
    "If the user wants to download the content of this notebook as a python script, it is possible following the steps:\n",
    "1. If not already done, open this notebook using Binder [![Binder](https://mybinder.org/badge_logo.svg)](TODO)\n",
    "2. Go on File -> Download as -> Python (.py)\n",
    "3. Select the saving path\n",
    "\n",
    "The result is a Python script that contains all the markdown text as comment and the code contained inside the cells."
   ]
  },
  {
   "cell_type": "markdown",
   "metadata": {},
   "source": [
    "## STEP 0: Import of external libraries\n",
    "\n",
    "The execution of the code in this example relies on the following external libraries:\n",
    "- **numpy**: arrays handling\n",
    "- **datetime**: measure the time\n",
    "\n",
    "We assume that those libraries are already installed together with the latest version of SuperflexPy. Keep in mind that not all the libraries listed above are strictly needed to execute SuperflexPy and, therefore, they are not listed as requirements of SuperflexPy."
   ]
  },
  {
   "cell_type": "code",
   "execution_count": null,
   "metadata": {},
   "outputs": [],
   "source": [
    "import numpy as np\n",
    "from datetime import datetime"
   ]
  },
  {
   "cell_type": "markdown",
   "metadata": {},
   "source": [
    "## STEP 1: Initialize the model\n",
    "\n",
    "In this example we will use the Unit as maximum complexity level of the model. The same operations illustrated in this example can be done similarly with any SuperflexPy component (i.e. Element, Unit, Node, Network).\n",
    "\n",
    "The model is imported and initialized in the following cell."
   ]
  },
  {
   "cell_type": "code",
   "execution_count": null,
   "metadata": {},
   "outputs": [],
   "source": [
    "from superflexpy.implementation.computation.pegasus_root_finding import PegasusPython\n",
    "from superflexpy.implementation.computation.implicit_euler import ImplicitEulerPython\n",
    "from superflexpy.implementation.elements.hbv import FastReservoir\n",
    "from superflexpy.framework.unit import Unit\n",
    "\n",
    "# Initialize numercal routines\n",
    "root_finder = PegasusPython()\n",
    "numeric_approximator = ImplicitEulerPython(root_finder=root_finder)\n",
    "\n",
    "# Initialize the elements\n",
    "fr_1 = FastReservoir(\n",
    "    parameters={'k': 0.1, 'alpha': 1.0},\n",
    "    states={'S0': 10.0},\n",
    "    approximation=numeric_approximator,\n",
    "    id='FR-1'\n",
    ")\n",
    "\n",
    "fr_2 = FastReservoir(\n",
    "    parameters={'k': 0.01, 'alpha': 2.0},\n",
    "    states={'S0': 1.0},\n",
    "    approximation=numeric_approximator,\n",
    "    id='FR-2'\n",
    ")\n",
    "\n",
    "# Initialize the Unit\n",
    "model = Unit(\n",
    "    layers=[\n",
    "        [fr_1],\n",
    "        [fr_2]\n",
    "    ],\n",
    "    id='model'\n",
    ")"
   ]
  },
  {
   "cell_type": "markdown",
   "metadata": {},
   "source": [
    "## STEP 2: Prepare the model to run\n",
    "\n",
    "This involves:\n",
    "- Read the input arrays (in this example they are generated randomly)\n",
    "- Assign inputs to the model\n",
    "- Set the time step\n",
    "\n",
    "This is done in the following cell."
   ]
  },
  {
   "cell_type": "code",
   "execution_count": null,
   "metadata": {},
   "outputs": [],
   "source": [
    "# Fix the seed\n",
    "SEED = 2\n",
    "rng = np.random.RandomState(seed=SEED)\n",
    "\n",
    "# Create the precipitation input\n",
    "P = np.zeros(100)\n",
    "P[:10] = rng.randint(10, size=10)\n",
    "P[25:30] = rng.randint(20, size=5)\n",
    "P[40:60] = rng.randint(5, size=20)\n",
    "P[80:83] = rng.randint(30, 50, size=3)\n",
    "\n",
    "# Assign the input\n",
    "model.set_input([P])\n",
    "\n",
    "# Set the time step\n",
    "model.set_timestep(1.0)"
   ]
  },
  {
   "cell_type": "markdown",
   "metadata": {},
   "source": [
    "## STEP 3: Calibrate the model\n",
    "\n",
    "This example will, actually, not show how to calibrate the model to data but it will illustrate how to perform all the steps that are usually needed to calibrate a model. The steps are:\n",
    "\n",
    "1. Generate a set of candidate parameters\n",
    "2. Assign the parameters to the model\n",
    "3. Reset the states before running\n",
    "4. Run the model and return the output time series\n",
    "\n",
    "Steps 1 to 4 are usually repeated several times until reaching satisfactory values for the parameters."
   ]
  },
  {
   "cell_type": "markdown",
   "metadata": {},
   "source": [
    "### 01. Generate a set of candidate parameters\n",
    "\n",
    "We want to calibrate only 2 out of 4 parameters: `model_FR-1_k` and `model_FR-2_k`. Normally, the calibration library will provide the value of these parameters. In this case, we will generate them randomly since the goal is to show the process and not to actually calibrate the model."
   ]
  },
  {
   "cell_type": "code",
   "execution_count": null,
   "metadata": {},
   "outputs": [],
   "source": [
    "# Generate the parameters randomly\n",
    "parameters = rng.rand(2)\n",
    "\n",
    "# Construct the dictionary for the set_parameters method\n",
    "parameters_to_set = {\n",
    "    'model_FR-1_k': parameters[0],\n",
    "    'model_FR-2_k': parameters[1],   \n",
    "}"
   ]
  },
  {
   "cell_type": "markdown",
   "metadata": {},
   "source": [
    "### 02. Assign the parameters to the model\n",
    "\n",
    "This can be done using the `set_parameters` method"
   ]
  },
  {
   "cell_type": "code",
   "execution_count": null,
   "metadata": {},
   "outputs": [],
   "source": [
    "model.set_parameters(parameters=parameters_to_set)"
   ]
  },
  {
   "cell_type": "markdown",
   "metadata": {},
   "source": [
    "### 03. Reset the states before running\n",
    "\n",
    "To avoid errors related to previous runs of the model, it is good practice to reset the states to their initialization value."
   ]
  },
  {
   "cell_type": "code",
   "execution_count": null,
   "metadata": {},
   "outputs": [],
   "source": [
    "model.reset_states()"
   ]
  },
  {
   "cell_type": "markdown",
   "metadata": {},
   "source": [
    "### 04. Run the model and return the output time series\n",
    "\n",
    "No the model can be run using the `get_output` method."
   ]
  },
  {
   "cell_type": "code",
   "execution_count": null,
   "metadata": {},
   "outputs": [],
   "source": [
    "output = model.get_output()"
   ]
  },
  {
   "cell_type": "markdown",
   "metadata": {},
   "source": [
    "## STEP 4: Potential of using the numba implementation\n",
    "\n",
    "During calibration (or uncertainty quantification) the steps illustrated above can be repeated several hundreds (if not thousands) of times. For this reason, using the pure Python implementation of the numerical solvers may not be the most efficient thing to do.\n",
    "\n",
    "We will here show the advantage of using the numba implementation. Further details can be found [here](TODO)."
   ]
  },
  {
   "cell_type": "markdown",
   "metadata": {},
   "source": [
    "### 00. Create a function to calibrate the model\n",
    "\n",
    "This function will performs the steps seen in \"STEP 3\"."
   ]
  },
  {
   "cell_type": "code",
   "execution_count": null,
   "metadata": {},
   "outputs": [],
   "source": [
    "def calibrate(model, rng, num_iterations):\n",
    "    for _ in range(num_iterations):\n",
    "        parameters = rng.rand(2)\n",
    "        parameters_to_set = {\n",
    "            'model_FR-1_k': parameters[0],\n",
    "            'model_FR-2_k': parameters[1],   \n",
    "        }\n",
    "        model.set_parameters(parameters=parameters_to_set)\n",
    "        model.reset_states()\n",
    "        output = model.get_output()"
   ]
  },
  {
   "cell_type": "markdown",
   "metadata": {},
   "source": [
    "### 01. Prepare a model that uses numba\n",
    "\n",
    "The only thing that need to be change in order to use the model with numba is the choice of the root finder and of the numerical approximator to use."
   ]
  },
  {
   "cell_type": "code",
   "execution_count": null,
   "metadata": {},
   "outputs": [],
   "source": [
    "from superflexpy.implementation.computation.pegasus_root_finding import PegasusNumba\n",
    "from superflexpy.implementation.computation.implicit_euler import ImplicitEulerNumba\n",
    "\n",
    "# Initialize numercal routines\n",
    "root_finder_numba = PegasusNumba()\n",
    "numeric_approximator_numba = ImplicitEulerNumba(root_finder=root_finder_numba)\n",
    "\n",
    "# Initialize the elements\n",
    "fr_1_numba = FastReservoir(\n",
    "    parameters={'k': 0.1, 'alpha': 1.0},\n",
    "    states={'S0': 10.0},\n",
    "    approximation=numeric_approximator_numba,\n",
    "    id='FR-1'\n",
    ")\n",
    "\n",
    "fr_2_numba = FastReservoir(\n",
    "    parameters={'k': 0.01, 'alpha': 2.0},\n",
    "    states={'S0': 1.0},\n",
    "    approximation=numeric_approximator_numba,\n",
    "    id='FR-2'\n",
    ")\n",
    "\n",
    "# Initialize the Unit\n",
    "model_numba = Unit(\n",
    "    layers=[\n",
    "        [fr_1_numba],\n",
    "        [fr_2_numba]\n",
    "    ],\n",
    "    id='model'\n",
    ")\n",
    "\n",
    "# Assign the input\n",
    "model_numba.set_input([P])\n",
    "\n",
    "# Set the time step\n",
    "model_numba.set_timestep(1.0)"
   ]
  },
  {
   "cell_type": "markdown",
   "metadata": {},
   "source": [
    "### 02. Test the Python model\n",
    "\n",
    "We will simulate a calibration that requires 1000 model runs to calibrate."
   ]
  },
  {
   "cell_type": "code",
   "execution_count": null,
   "metadata": {},
   "outputs": [],
   "source": [
    "start = datetime.now()\n",
    "calibrate(model=model, rng=rng, num_iterations=1000)\n",
    "end = datetime.now()\n",
    "\n",
    "print('Calibration time: {}'.format(end - start))"
   ]
  },
  {
   "cell_type": "markdown",
   "metadata": {},
   "source": [
    "### 03. Test the numba model\n",
    "\n",
    "We will simulate a calibration that requires 1000 model runs to calibrate."
   ]
  },
  {
   "cell_type": "code",
   "execution_count": null,
   "metadata": {},
   "outputs": [],
   "source": [
    "start = datetime.now()\n",
    "calibrate(model=model_numba, rng=rng, num_iterations=1000)\n",
    "end = datetime.now()\n",
    "\n",
    "print('Calibration time: {}'.format(end - start))"
   ]
  },
  {
   "cell_type": "markdown",
   "metadata": {},
   "source": [
    "### 04. Conclusions\n",
    "\n",
    "Although running times depends on the hardware used, numba models can be up to 30 times faster than pure Python solutions.\n",
    "\n",
    "Note that, when using numba for the first time, most of the time is used to compile the methods to machine code (in the machine used when writing the example, compilation takes roughly 1 second while running  the model once is in the order of $10^{-3}$ seconds). Compilation needs to be done only once as long as data types do not change and, therefore, it is more efficient to use numba when the model needs to be run several times, like for calibration."
   ]
  }
 ],
 "metadata": {
  "kernelspec": {
   "display_name": "just_sfpy_RC",
   "language": "python",
   "name": "just_sfpy_rc"
  },
  "language_info": {
   "codemirror_mode": {
    "name": "ipython",
    "version": 3
   },
   "file_extension": ".py",
   "mimetype": "text/x-python",
   "name": "python",
   "nbconvert_exporter": "python",
   "pygments_lexer": "ipython3",
   "version": "3.7.8"
  }
 },
 "nbformat": 4,
 "nbformat_minor": 4
}
