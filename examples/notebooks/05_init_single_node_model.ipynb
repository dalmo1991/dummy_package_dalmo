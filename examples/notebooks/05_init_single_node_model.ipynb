{
 "cells": [
  {
   "cell_type": "markdown",
   "metadata": {},
   "source": [
    "# SuperflexPy example 05: Initialize a single node model\n",
    "\n",
    "Author: Marco Dal Molin\n",
    "\n",
    "Collaborators: Fabrizio Fenicia, Dmitri Kavetski"
   ]
  },
  {
   "cell_type": "markdown",
   "metadata": {},
   "source": [
    "## What's in this example\n",
    "\n",
    "This example will cover the following aspects:\n",
    "- [Initialize a single node model](TODO)\n",
    "\n",
    "By clicking on the items you will be redirected to the documentation page (when available) that explains the arguments in a more detailed way. "
   ]
  },
  {
   "cell_type": "markdown",
   "metadata": {},
   "source": [
    "## What's not in this example\n",
    "\n",
    "The following aspects are already covered in other examples:\n",
    "\n",
    "- [Initialize the units and the single elements contained](TODO)\n",
    "- [Run the model](TODO)\n",
    "- [Change states and parameters](TODO)\n",
    "\n",
    "For this reason we will put only the code need, without further explanations. You can check the other examples by clicking on the items above."
   ]
  },
  {
   "cell_type": "markdown",
   "metadata": {},
   "source": [
    "## Do you want to use this example as a script?\n",
    "\n",
    "Examples of SuperflexPy are created and distributed using Jupyter notebooks because they enable to conjugate runnable code with text explanations. We have decided to not provide the content of the notebooks as script because this would mean duplicating the same content in multiple places, bringing to maintainability problems.\n",
    "\n",
    "If the user wants to download the content of this notebook as a python script, it is possible following the steps:\n",
    "1. If not already done, open this notebook using Binder [![Binder](https://mybinder.org/badge_logo.svg)](TODO)\n",
    "2. Go on File -> Download as -> Python (.py)\n",
    "3. Select the saving path\n",
    "\n",
    "The result is a Python script that contains all the markdown text as comment and the code contained inside the cells."
   ]
  },
  {
   "cell_type": "markdown",
   "metadata": {},
   "source": [
    "## STEP 1: Initialize the single node model\n",
    "\n",
    "A single node model is composed by several units that operate in parallel within the node. In this example, we will consider a case where there are 2 units operating in parallel."
   ]
  },
  {
   "cell_type": "markdown",
   "metadata": {},
   "source": [
    "### 01. Import an initialize the numerical routines, the elements, and the units\n",
    "\n",
    "All the units contained in the node must be, first, initialized. This can be done with the following code."
   ]
  },
  {
   "cell_type": "code",
   "execution_count": null,
   "metadata": {},
   "outputs": [],
   "source": [
    "from superflexpy.implementation.computation.pegasus_root_finding import PegasusPython\n",
    "from superflexpy.implementation.computation.implicit_euler import ImplicitEulerPython\n",
    "from superflexpy.implementation.elements.hbv import FastReservoir\n",
    "from superflexpy.framework.unit import Unit\n",
    "\n",
    "# Initialize numercal routines\n",
    "root_finder = PegasusPython()\n",
    "numeric_approximator = ImplicitEulerPython(root_finder=root_finder)\n",
    "\n",
    "# Initialize the elements\n",
    "e1 = FastReservoir(\n",
    "    parameters={'k': 0.1, 'alpha': 1.0},\n",
    "    states={'S0': 10.0},\n",
    "    approximation=numeric_approximator,\n",
    "    id='E1'\n",
    ")\n",
    "\n",
    "e2 = FastReservoir(\n",
    "    parameters={'k': 0.1, 'alpha': 1.0},\n",
    "    states={'S0': 10.0},\n",
    "    approximation=numeric_approximator,\n",
    "    id='E2'\n",
    ")\n",
    "\n",
    "e3 = FastReservoir(\n",
    "    parameters={'k': 0.1, 'alpha': 1.0},\n",
    "    states={'S0': 10.0},\n",
    "    approximation=numeric_approximator,\n",
    "    id='E3'\n",
    ")\n",
    "\n",
    "u1 = Unit(\n",
    "    layers=[\n",
    "        [e1],\n",
    "        [e2]\n",
    "    ],\n",
    "    id='U1'\n",
    ")\n",
    "\n",
    "u2 = Unit(\n",
    "    layers=[\n",
    "        [e3],\n",
    "    ],\n",
    "    id='U2'\n",
    ")"
   ]
  },
  {
   "cell_type": "markdown",
   "metadata": {},
   "source": [
    "### 02. Initialize the node\n",
    "\n",
    "Now that the units are all initialized, they can be added to a node to contribute together to its outflow."
   ]
  },
  {
   "cell_type": "code",
   "execution_count": null,
   "metadata": {},
   "outputs": [],
   "source": [
    "from superflexpy.framework.node import Node\n",
    "\n",
    "model = Node(\n",
    "    units=[u1, u2],\n",
    "    weights=[0.7, 0.3],\n",
    "    area=1.0,\n",
    "    id='node'\n",
    ")"
   ]
  },
  {
   "cell_type": "markdown",
   "metadata": {},
   "source": [
    "## STEP 2: Run the model\n",
    "\n",
    "Now that the model has been initialized, it can be run. This can be done running the code in the following cell."
   ]
  },
  {
   "cell_type": "code",
   "execution_count": null,
   "metadata": {},
   "outputs": [],
   "source": [
    "import numpy as np\n",
    "import matplotlib.pyplot as plt\n",
    "\n",
    "# Fix the seed\n",
    "SEED = 2\n",
    "rng = np.random.RandomState(seed=SEED)\n",
    "\n",
    "# Generate the input\n",
    "P = np.zeros(100)\n",
    "P[:10] = np.random.randint(10, size=10)\n",
    "P[25:30] = np.random.randint(20, size=5)\n",
    "P[40:60] = np.random.randint(5, size=20)\n",
    "P[80:83] = np.random.randint(30, 50, size=3)\n",
    "\n",
    "# Assign the input\n",
    "model.set_input([P])\n",
    "\n",
    "# Set the timestep\n",
    "model.set_timestep(1.0)\n",
    "\n",
    "# Run the model\n",
    "output = model.get_output()\n",
    "\n",
    "# Plot\n",
    "fig, ax = plt.subplots(2, 1, figsize=(20, 12), sharex=True)\n",
    "ax[0].bar(x=np.arange(len(P)), height=P, color='royalblue')\n",
    "ax[0].set_ylabel('Precipitation [mm/day]')\n",
    "ax[0].grid(True)\n",
    "ax[1].plot(np.arange(len(P)), output[0], lw=2, label='Total outflow')\n",
    "ax[1].set_xlabel('Time [days]')\n",
    "ax[1].set_ylabel('Streamflow [mm/day]')\n",
    "ax[1].legend()\n",
    "ax[1].grid(True)\n",
    "pass"
   ]
  }
 ],
 "metadata": {
  "kernelspec": {
   "display_name": "just_sfpy_RC",
   "language": "python",
   "name": "just_sfpy_rc"
  },
  "language_info": {
   "codemirror_mode": {
    "name": "ipython",
    "version": 3
   },
   "file_extension": ".py",
   "mimetype": "text/x-python",
   "name": "python",
   "nbconvert_exporter": "python",
   "pygments_lexer": "ipython3",
   "version": "3.7.8"
  }
 },
 "nbformat": 4,
 "nbformat_minor": 4
}
