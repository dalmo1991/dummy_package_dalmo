{
 "cells": [
  {
   "cell_type": "markdown",
   "metadata": {},
   "source": [
    "# SuperflexPy example 08: Implement GR4J\n",
    "\n",
    "Author: Marco Dal Molin\n",
    "\n",
    "Collaborators: Fabrizio Fenicia, Dmitri Kavetski"
   ]
  },
  {
   "cell_type": "markdown",
   "metadata": {},
   "source": [
    "## What's in this example\n",
    "\n",
    "This example will cover the following aspects:\n",
    "- [implement the lumped model GR4J presented in Perrin et al., 2003](https://superflexpy.readthedocs.io/en/latest/popular_models.html#gr4j)\n",
    "\n",
    "By clicking on the items you will be redirected to the documentation page (when available) that explains the arguments in a more detailed way. \n",
    "\n",
    "REFERENCE: Perrin, C., Michel, C., and Andréassian, V.: Improvement of a parsimonious model for streamflow simulation, Journal of Hydrology, 279, 275-289, https://doi.org/10.1016/S0022-1694(03)00225-7, 2003."
   ]
  },
  {
   "cell_type": "markdown",
   "metadata": {},
   "source": [
    "## What's not in this example\n",
    "\n",
    "The following aspects are already covered in other examples:\n",
    "\n",
    "- [Initialize elements and connect them with a unit](./04_init_single_unit_model.ipynb)\n",
    "- [Run the model](./01_run_simple_model.ipynb)\n",
    "- [Change states and parameters](./01_run_simple_model.ipynb)\n",
    "\n",
    "For this reason we will put only the code need, without further explanations. You can check the other examples by clicking on the items above."
   ]
  },
  {
   "cell_type": "markdown",
   "metadata": {},
   "source": [
    "## Do you want to use this example as a script?\n",
    "\n",
    "Examples of SuperflexPy are created and distributed using Jupyter notebooks because they enable to conjugate runnable code with text explanations. We have decided to not provide the content of the notebooks as script because this would mean duplicating the same content in multiple places, bringing to maintainability problems.\n",
    "\n",
    "If the user wants to download the content of this notebook as a python script, it is possible following the steps:\n",
    "1. If not already done, open this notebook using Binder [![Binder](https://mybinder.org/badge_logo.svg)](TODO)\n",
    "2. Go on File -> Download as -> Python (.py)\n",
    "3. Select the saving path\n",
    "\n",
    "The result is a Python script that contains all the markdown text as comment and the code contained inside the cells."
   ]
  },
  {
   "cell_type": "markdown",
   "metadata": {},
   "source": [
    "## STEP 1: Initialize the model\n",
    "\n",
    "GR4J is composed by 4 elements: 2 reservoirs and 2 lag functions. All the elements have already been implemented and can be imported from `superflexpy.implementation.elements.gr4j`."
   ]
  },
  {
   "cell_type": "code",
   "execution_count": null,
   "metadata": {},
   "outputs": [],
   "source": [
    "from superflexpy.implementation.computation.pegasus_root_finding import PegasusPython\n",
    "from superflexpy.implementation.computation.implicit_euler import ImplicitEulerPython\n",
    "from superflexpy.implementation.elements.gr4j import InterceptionFilter, ProductionStore, UnitHydrograph1, UnitHydrograph2, RoutingStore, FluxAggregator\n",
    "from superflexpy.implementation.elements.structure_elements import Transparent, Splitter, Junction\n",
    "from superflexpy.framework.unit import Unit\n",
    "\n",
    "x1, x2, x3, x4 = (50.0, 0.1, 20.0, 3.5)\n",
    "\n",
    "root_finder = PegasusPython()  # Use the default parameters\n",
    "numerical_approximation = ImplicitEulerPython(root_finder)\n",
    "\n",
    "interception_filter = InterceptionFilter(id='ir')\n",
    "\n",
    "production_store = ProductionStore(parameters={'x1': x1, 'alpha': 2.0,\n",
    "                                               'beta': 5.0, 'ni': 4/9},\n",
    "                                   states={'S0': 10.0},\n",
    "                                   approximation=numerical_approximation,\n",
    "                                   id='ps')\n",
    "\n",
    "splitter = Splitter(weight=[[0.9], [0.1]],\n",
    "                    direction=[[0], [0]],\n",
    "                    id='spl')\n",
    "\n",
    "unit_hydrograph_1 = UnitHydrograph1(parameters={'lag-time': x4},\n",
    "                                    states={'lag': None},\n",
    "                                    id='uh1')\n",
    "\n",
    "unit_hydrograph_2 = UnitHydrograph2(parameters={'lag-time': 2*x4},\n",
    "                                    states={'lag': None},\n",
    "                                    id='uh2')\n",
    "\n",
    "routing_store = RoutingStore(parameters={'x2': x2, 'x3': x3,\n",
    "                                         'gamma': 5.0, 'omega': 3.5},\n",
    "                             states={'S0': 10.0},\n",
    "                             approximation=numerical_approximation,\n",
    "                             id='rs')\n",
    "\n",
    "transparent = Transparent(id='tr')\n",
    "\n",
    "junction = Junction(direction=[[0, None],  # First output\n",
    "                               [1, None],  # Second output\n",
    "                               [None, 0]], # Third output\n",
    "                    id='jun')\n",
    "\n",
    "flux_aggregator = FluxAggregator(id='fa')\n",
    "\n",
    "model = Unit(layers=[[interception_filter],\n",
    "                     [production_store],\n",
    "                     [splitter],\n",
    "                     [unit_hydrograph_1, unit_hydrograph_2],\n",
    "                     [routing_store, transparent],\n",
    "                     [junction],\n",
    "                     [flux_aggregator]],\n",
    "             id='model')"
   ]
  },
  {
   "cell_type": "markdown",
   "metadata": {},
   "source": [
    "## STEP 2: Run the model\n",
    "\n",
    "Now that the mode has been initialized, it can be run. This can be done running the code in the following cell."
   ]
  },
  {
   "cell_type": "code",
   "execution_count": null,
   "metadata": {},
   "outputs": [],
   "source": [
    "import numpy as np\n",
    "import matplotlib.pyplot as plt\n",
    "\n",
    "# Fix the seed\n",
    "SEED = 2\n",
    "rng = np.random.RandomState(seed=SEED)\n",
    "\n",
    "# Generate the input\n",
    "P = np.zeros(100)\n",
    "P[:10] = rng.randint(10, size=10)\n",
    "P[25:30] = rng.randint(20, size=5)\n",
    "P[40:60] = rng.randint(5, size=20)\n",
    "P[80:83] = rng.randint(30, 50, size=3)\n",
    "E = np.ones_like(P) * 2.0 # We use a constant PET\n",
    "\n",
    "# Assign the input\n",
    "model.set_input([E, P])\n",
    "\n",
    "# Set the timestep\n",
    "model.set_timestep(1.0)\n",
    "\n",
    "# Run the model\n",
    "model.reset_states()\n",
    "output = model.get_output()\n",
    "\n",
    "# Inspect internals\n",
    "ps_out = model.call_internal(id='ps', method='get_output', solve=False)[0]\n",
    "ps_e = model.call_internal(id='ps', method='get_aet')[0]\n",
    "ps_s = model.get_internal(id='ps', attribute='state_array')[:, 0]\n",
    "rs_out = model.call_internal(id='rs', method='get_output', solve=False)[0]\n",
    "rs_s = model.get_internal(id='rs', attribute='state_array')[:, 0]\n",
    "\n",
    "# Plot\n",
    "fig, ax = plt.subplots(3, 1, figsize=(20, 12), sharex=True)\n",
    "ax[0].bar(x=np.arange(len(P)), height=P, color='royalblue', label='P')\n",
    "ax[0].plot(np.arange(len(P)), E, lw=2, color='gold', label='PET')\n",
    "ax[0].legend()\n",
    "ax[0].set_ylabel('Inputs [mm/day]')\n",
    "ax[0].grid(True)\n",
    "ax[1].plot(np.arange(len(P)), output[0], lw=2, label='Total outflow')\n",
    "ax[1].plot(np.arange(len(P)), ps_e, lw=2, label='AET')\n",
    "ax[1].plot(np.arange(len(P)), ps_out, lw=2, label='Outflow production store')\n",
    "ax[1].plot(np.arange(len(P)), rs_out, lw=2, label='Outflow routing store')\n",
    "ax[1].set_xlabel('Time [days]')\n",
    "ax[1].set_ylabel('Flows [mm/day]')\n",
    "ax[1].legend()\n",
    "ax[1].grid(True)\n",
    "ax[2].plot(np.arange(len(P)), ps_s, lw=2, label='State production store')\n",
    "ax[2].plot(np.arange(len(P)), rs_s, lw=2, label='State routing store')\n",
    "ax[2].set_xlabel('Time [days]')\n",
    "ax[2].set_ylabel('Storages [mm]')\n",
    "ax[2].legend()\n",
    "ax[2].grid(True)\n",
    "pass"
   ]
  }
 ],
 "metadata": {
  "kernelspec": {
   "display_name": "just_sfpy_RC",
   "language": "python",
   "name": "just_sfpy_rc"
  },
  "language_info": {
   "codemirror_mode": {
    "name": "ipython",
    "version": 3
   },
   "file_extension": ".py",
   "mimetype": "text/x-python",
   "name": "python",
   "nbconvert_exporter": "python",
   "pygments_lexer": "ipython3",
   "version": "3.7.8"
  }
 },
 "nbformat": 4,
 "nbformat_minor": 4
}
